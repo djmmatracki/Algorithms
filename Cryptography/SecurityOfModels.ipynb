{
 "cells": [
  {
   "cell_type": "markdown",
   "metadata": {},
   "source": [
    "# Security issues in the impression of the machine learning model\n",
    "\n",
    "Types of threats:\n",
    "\n",
    "- man-in-the-middle attacks\n",
    "- masquerading techic\n",
    "- data manipulation"
   ]
  },
  {
   "cell_type": "code",
   "execution_count": 2,
   "metadata": {},
   "outputs": [],
   "source": [
    "import cryptography as crypt\n",
    "from sklearn.linear_model import LogisticRegression\n",
    "from cryptography.fernet import Fernet\n",
    "from sklearn.model_selection import train_test_split\n",
    "from sklearn.datasets import load_iris\n",
    "from pickle import dump\n",
    "iris = load_iris()"
   ]
  },
  {
   "cell_type": "code",
   "execution_count": 3,
   "metadata": {},
   "outputs": [
    {
     "name": "stderr",
     "output_type": "stream",
     "text": [
      "d:\\My_Projects\\Algorithms\\venv\\lib\\site-packages\\sklearn\\linear_model\\_logistic.py:814: ConvergenceWarning: lbfgs failed to converge (status=1):\n",
      "STOP: TOTAL NO. of ITERATIONS REACHED LIMIT.\n",
      "\n",
      "Increase the number of iterations (max_iter) or scale the data as shown in:\n",
      "    https://scikit-learn.org/stable/modules/preprocessing.html\n",
      "Please also refer to the documentation for alternative solver options:\n",
      "    https://scikit-learn.org/stable/modules/linear_model.html#logistic-regression\n",
      "  n_iter_i = _check_optimize_result(\n"
     ]
    },
    {
     "data": {
      "text/plain": [
       "LogisticRegression()"
      ]
     },
     "execution_count": 3,
     "metadata": {},
     "output_type": "execute_result"
    }
   ],
   "source": [
    "X = iris.data\n",
    "y = iris.target\n",
    "\n",
    "X_train, X_test, y_train, y_test = train_test_split(X, y)\n",
    "\n",
    "# Wytrenowanie modelu\n",
    "model = LogisticRegression()\n",
    "model.fit(X_train, y_train)"
   ]
  },
  {
   "cell_type": "code",
   "execution_count": 4,
   "metadata": {},
   "outputs": [],
   "source": [
    "# Zdefiniowanie nazw plikow\n",
    "filename_source = \"myModel_source.sav\"\n",
    "filename_destionation = \"myModel_destination.sav\"\n",
    "filename_sec = \"myModel_sec.sav\"\n",
    "\n",
    "# Skorzystanie z pickle do przechowania modelu\n",
    "dump(model, open(filename_source, \"wb\"))"
   ]
  },
  {
   "cell_type": "code",
   "execution_count": 5,
   "metadata": {},
   "outputs": [],
   "source": [
    "# Funkcja ktora wygeneruje klucz symetryczny\n",
    "def write_key():\n",
    "    key = Fernet.generate_key()\n",
    "    with open(\"key.key\", \"wb\") as key_file:\n",
    "        key_file.write(key)\n",
    "\n",
    "# Funkcja ktora czyta klucz z pliku\n",
    "def load_key():\n",
    "    return open(\"key.key\", \"rb\").read()\n",
    "\n",
    "# Funkcja ktora zaszyfruje model i zachowa go w pliku\n",
    "def encrypt(filename, key):\n",
    "    f = Fernet(key)\n",
    "    with open(filename_source, \"rb\") as file:\n",
    "        file_data = file.read()\n",
    "    encrypted_data = f.encrypt(file_data)\n",
    "    with open(filename_sec, \"wb\") as file:\n",
    "        file.write(encrypted_data)"
   ]
  },
  {
   "cell_type": "code",
   "execution_count": 6,
   "metadata": {},
   "outputs": [],
   "source": [
    "write_key()\n",
    "encrypt(filename_source, load_key())"
   ]
  },
  {
   "cell_type": "code",
   "execution_count": 7,
   "metadata": {},
   "outputs": [],
   "source": [
    "def decrypt(filename, key):\n",
    "    f = Fernet(key)\n",
    "\n",
    "    with open(filename_sec, \"rb\") as file:\n",
    "        encrypted_data = file.read()\n",
    "    decrypted_data = f.decrypt(encrypted_data)\n",
    "    with open(filename_destionation, \"wb\") as file:\n",
    "        file.write(decrypted_data)\n",
    "\n",
    "decrypt(filename_sec, load_key())"
   ]
  },
  {
   "cell_type": "code",
   "execution_count": 11,
   "metadata": {},
   "outputs": [
    {
     "ename": "AttributeError",
     "evalue": "'_io.BufferedReader' object has no attribute 'score'",
     "output_type": "error",
     "traceback": [
      "\u001b[1;31m---------------------------------------------------------------------------\u001b[0m",
      "\u001b[1;31mAttributeError\u001b[0m                            Traceback (most recent call last)",
      "\u001b[1;32md:\\My_Projects\\Algorithms\\Cryptography\\SecurityOfModels.ipynb Cell 8'\u001b[0m in \u001b[0;36m<module>\u001b[1;34m\u001b[0m\n\u001b[0;32m      <a href='vscode-notebook-cell:/d%3A/My_Projects/Algorithms/Cryptography/SecurityOfModels.ipynb#ch0000007?line=0'>1</a>\u001b[0m loaded_model \u001b[39m=\u001b[39m \u001b[39mopen\u001b[39m(filename_destionation, \u001b[39m'\u001b[39m\u001b[39mrb\u001b[39m\u001b[39m'\u001b[39m)\n\u001b[1;32m----> <a href='vscode-notebook-cell:/d%3A/My_Projects/Algorithms/Cryptography/SecurityOfModels.ipynb#ch0000007?line=1'>2</a>\u001b[0m result \u001b[39m=\u001b[39m loaded_model\u001b[39m.\u001b[39;49mscore(X_test, y_test)\n\u001b[0;32m      <a href='vscode-notebook-cell:/d%3A/My_Projects/Algorithms/Cryptography/SecurityOfModels.ipynb#ch0000007?line=2'>3</a>\u001b[0m \u001b[39mprint\u001b[39m(result)\n",
      "\u001b[1;31mAttributeError\u001b[0m: '_io.BufferedReader' object has no attribute 'score'"
     ]
    }
   ],
   "source": [
    "loaded_model = open(filename_destionation, 'rb')\n",
    "result = loaded_model.score(X_test, y_test)\n",
    "print(result)"
   ]
  }
 ],
 "metadata": {
  "interpreter": {
   "hash": "8348f7768659ea86e7daa744a41e5e57a205e9a2eef25f7d6d160b105f1d65ae"
  },
  "kernelspec": {
   "display_name": "Python 3.9.6 ('venv': venv)",
   "language": "python",
   "name": "python3"
  },
  "language_info": {
   "codemirror_mode": {
    "name": "ipython",
    "version": 3
   },
   "file_extension": ".py",
   "mimetype": "text/x-python",
   "name": "python",
   "nbconvert_exporter": "python",
   "pygments_lexer": "ipython3",
   "version": "3.9.6"
  },
  "orig_nbformat": 4
 },
 "nbformat": 4,
 "nbformat_minor": 2
}
