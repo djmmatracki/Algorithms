{
 "cells": [
  {
   "cell_type": "markdown",
   "metadata": {},
   "source": [
    "# Cesar cipher"
   ]
  },
  {
   "cell_type": "code",
   "execution_count": 6,
   "metadata": {},
   "outputs": [
    {
     "name": "stdout",
     "output_type": "stream",
     "text": [
      "My encoding:  PNYZ\n",
      "Codecs:  PNYZ\n"
     ]
    }
   ],
   "source": [
    "# We replace each character with the equivalent shifted by 3 characters in the alphabet\n",
    "import codecs\n",
    "\n",
    "rotation = 13\n",
    "P = 'CALM'\n",
    "\n",
    "def cipher(word, rotation):\n",
    "    C = ''\n",
    "    for letter in word:\n",
    "        C += chr(ord(letter) + rotation)\n",
    "    \n",
    "    return C\n",
    "\n",
    "\n",
    "C = codecs.encode(P, 'rot_13')\n",
    "\n",
    "print(\"My encoding: \", cipher(P, rotation))\n",
    "print(\"Codecs: \", C)"
   ]
  },
  {
   "cell_type": "markdown",
   "metadata": {},
   "source": [
    "# Rodzaje technik kryptograficznych\n",
    "\n",
    "Techniki kryptograficzne:\n",
    "\n",
    "- funkcja skrótu\n",
    "- techniki symetryczne\n",
    "- techniki asymetryczne\n",
    "\n",
    "### Funkcja skrótu\n",
    "\n",
    "- Jest deterministyczna\n",
    "- Niepowtarzalne dane wejściowe powinny wygenerować niepowtarzalny skrót na wyjściu\n",
    "- Niezależnie od długości wiadomości skrót zawsze będzie tej samej długości\n",
    "- Nawet drobne dane w tekście jawnym spowodują wygenerowanie nowego skrótu.\n",
    "- Jest to funkcja jednokierunkowa.\n"
   ]
  },
  {
   "cell_type": "markdown",
   "metadata": {},
   "source": [
    "# Funkcje skrótu\n",
    "\n",
    "Są jednokierunkowe. Używane są do weryfikacji spójności pliku po zrobieniu jego kopii. W tym celu plik jest kopiowany z miejsca źródłowego do docelowego. odpowiadający mu skrót jest kopiowany wraz z nim."
   ]
  },
  {
   "cell_type": "code",
   "execution_count": 9,
   "metadata": {},
   "outputs": [
    {
     "name": "stdout",
     "output_type": "stream",
     "text": [
      "Encoding using md5:  $1$1UtXdlQe$DZDfrbaYtRSn6vbnUDCrF/\n",
      "Verify encoding:  True\n",
      "Encoding using sha512:  $6$qIo0foX5$a.RA/OyedLnLEnWovzqngCqhyy3EfqRtwacvWKsIoYSvYgRxCRetM3XSwrgMxwdPqZt4KfbXzCp6yNyxI5j6o/\n"
     ]
    }
   ],
   "source": [
    "from passlib.hash import md5_crypt, sha512_crypt\n",
    "\n",
    "# Prosta funkcja skrótu md5, podatna na kolizje\n",
    "myHash = md5_crypt.hash(\"myPassword\")\n",
    "\n",
    "print(\"Encoding using md5: \", myHash)\n",
    "\n",
    "print(\"Verify encoding: \", md5_crypt.verify(\"myPassword\", myHash))\n",
    "\n",
    "myHash = sha512_crypt.using(salt=\"qIo0foX5\", rounds=5000).hash(\"myPassword\")\n",
    "\n",
    "print(\"Encoding using sha512: \", myHash)"
   ]
  },
  {
   "cell_type": "markdown",
   "metadata": {},
   "source": [
    "# Symetric encoding"
   ]
  },
  {
   "cell_type": "code",
   "execution_count": null,
   "metadata": {},
   "outputs": [],
   "source": [
    "import cryptography\n",
    "from cryptography.fernet import Fernet\n",
    "\n",
    "# Wygenerowanie klucza\n",
    "key = Fernet.generate_key()\n",
    "\n",
    "print(key)\n",
    "\n",
    "# Zapisanie klucza do pliku\n",
    "# file = open(\"mykey.key\", \"wb\")\n",
    "# file.write(key)\n",
    "# file.close()\n",
    "\n",
    "# Odczytanie klucza z pliku\n",
    "# file = open(\"mykey.key\", \"wb\")\n",
    "# file.read()\n",
    "# file.close()\n",
    "\n",
    "# Zaszyfrowanie wiadomości\n",
    "message = \"W Ottawie jest bardzo zimno.\".encode()\n",
    "f = Fernet(key)\n",
    "encrypted = f.encrypt(message)\n",
    "\n",
    "# Odszyfrowanie\n",
    "decrypted = f.decrypt(encrypted)\n",
    "print(decrypted)\n"
   ]
  },
  {
   "cell_type": "markdown",
   "metadata": {},
   "source": [
    "# Szyfrowanie asymetryczne\n",
    "\n",
    "Pierwszym krokiem jest wygenerowanie dwóch różnych kluczy, które wyglądają zupełnie inaczej, ale są związane algorytmem. Jeden z nich to klucz prywatny, a drugi to klucz publiczny. Klucze publiczne można dowolnie dytrybułować zgodnie z potrzebami, natomiast klucz prywatny ma być sekretem właściciela pary kluczy.\n",
    "\n",
    "Główna zasada procesu polega na tym, że jeśli coś zostanie zaszyfrowane za pomocą jednego z kluczy, można to odszyfrować tylko za pomocą drugiego z nich.\n",
    "\n",
    "## Algorytm SSL/TLS\n",
    "\n",
    "Protokół SSL powstał, by zapewnić więkrze bezpieczeństwo protokołowi HTTP. Po latach SSL ustąpił miejsca bardziej wydajnemu i bezpieczniejszemu standardowi TLS.\n",
    "\n",
    "Podczas procesu TLS wykonywane są następujące kroki:\n",
    "\n",
    "\n",
    "1. Klient wysyłą do serwera wiadomość \"hello world\". Wiadomość ta zawiera również:\n",
    " - wersję używanego protokołu TLS.\n",
    " - zestaw szyfrów wspieranych po stronie klienta\n",
    " - algorytm kompresji\n",
    " - losowy łańcuch bajtów określany jako byte_client.\n",
    "\n",
    "2. Serwer w odpowiedzi wysyła wiadomość \"hello\". Wiadomość ta zawiera również:\n",
    " - zestaw szyfrów wybranych przez serwer z listy otrzymanej od klienta\n",
    " - identyfikator sesji\n",
    " - losowy łańcuch bajtów określany jako byte_server\n",
    " - cyfrowy certyfikat serwera, identyfikowany jak cert_server, zawierający klucz publiczny serwera\n",
    "\n",
    "3. Klient weryfikuje cert_server\n",
    "4. Klient generuje losowy łańcuch bajtów, identyfikowany jako byte_client2 i szyfruje go kluczem publicznym serwera uzyskanym za pomocą cert_server.\n",
    "5. Klient generuje losowy łańcuch bajtów i rozpoznaje wiadomości zaszyfrowane za pomocą klucza publicznego.\n",
    "6. Serwer weryfikuje certyfikat klienta.\n",
    "7. Klient wysyła wiadomość do serwera finished, która została wcześniej zaszyfrowana tajnym kluczem.\n",
    "8. Aby potwierdzić komunikację ze strony serwera, serwer wysyła klientowi wiadomość finished, która równiez została wcześniej zaszyfrowana tajnym kluczem.\n",
    "9. Serwer i klient teraz stworzyły bezpieczny kanał. Mogą wymieniać wiadomości szyfrowane symetrycznie za pomocą współdzielonego sekretnego klucza."
   ]
  }
 ],
 "metadata": {
  "interpreter": {
   "hash": "8348f7768659ea86e7daa744a41e5e57a205e9a2eef25f7d6d160b105f1d65ae"
  },
  "kernelspec": {
   "display_name": "Python 3.9.6 ('venv': venv)",
   "language": "python",
   "name": "python3"
  },
  "language_info": {
   "codemirror_mode": {
    "name": "ipython",
    "version": 3
   },
   "file_extension": ".py",
   "mimetype": "text/x-python",
   "name": "python",
   "nbconvert_exporter": "python",
   "pygments_lexer": "ipython3",
   "version": "3.9.6"
  },
  "orig_nbformat": 4
 },
 "nbformat": 4,
 "nbformat_minor": 2
}
