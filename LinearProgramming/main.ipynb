{
 "cells": [
  {
   "cell_type": "markdown",
   "metadata": {},
   "source": [
    "# Linear Programing\n",
    "\n",
    "Linear programing is an optimization technique for a system of linear constraints and a linear objective function. An objective function defines the quantity to be optimized, and the goal of linear programming is to find the values of the variables that maximize or minimize the objective function."
   ]
  },
  {
   "cell_type": "markdown",
   "metadata": {},
   "source": [
    "Planing the capacity of a factory.\n",
    "\n",
    "Information on producing the robots:\n",
    "\n",
    "Technician:\n",
    "\n",
    "- Robot A - 3 days\n",
    "- Robot B - 2 days\n",
    "\n",
    "AI Specialist:\n",
    "\n",
    "- Robot A - 4 days\n",
    "- Robot B - 3 days\n",
    "\n",
    "Engineer:\n",
    "\n",
    "- Robot A - 4 days\n",
    "- Robot B - 3 days\n",
    "\n",
    "The goal is to maximize the profits of a factory. Robot A we get 4200 profit and from Robot B we get 2800 profit."
   ]
  },
  {
   "cell_type": "code",
   "execution_count": 1,
   "metadata": {},
   "outputs": [],
   "source": [
    "import pulp"
   ]
  },
  {
   "cell_type": "code",
   "execution_count": 2,
   "metadata": {},
   "outputs": [
    {
     "name": "stderr",
     "output_type": "stream",
     "text": [
      "/Users/dominikmatracki/MyProjects/Algorithms/venv/lib/python3.9/site-packages/pulp/pulp.py:1352: UserWarning: Spaces are not permitted in the name. Converted to '_'\n",
      "  warnings.warn(\"Spaces are not permitted in the name. Converted to '_'\")\n"
     ]
    }
   ],
   "source": [
    "model = pulp.LpProblem(\"Profit maxing problem\", pulp.LpMaximize)\n",
    "\n",
    "A = pulp.LpVariable('A', lowBound=0, cat=\"Integer\")\n",
    "B = pulp.LpVariable('B', lowBound=0, cat=\"Integer\")"
   ]
  },
  {
   "cell_type": "code",
   "execution_count": 3,
   "metadata": {},
   "outputs": [],
   "source": [
    "model += 5000 * A + 2500 * B, \"Profit\"\n",
    "\n",
    "model += 3 * A + 2*B <= 20\n",
    "model += 4 * A + 3*B <= 30\n",
    "model += 4 * A + 3*B <= 44"
   ]
  },
  {
   "cell_type": "code",
   "execution_count": 4,
   "metadata": {},
   "outputs": [
    {
     "name": "stdout",
     "output_type": "stream",
     "text": [
      "Welcome to the CBC MILP Solver \n",
      "Version: 2.10.3 \n",
      "Build Date: Dec 15 2019 \n",
      "\n",
      "command line - /Users/dominikmatracki/MyProjects/Algorithms/venv/lib/python3.9/site-packages/pulp/apis/../solverdir/cbc/osx/64/cbc /var/folders/sn/9k1r60m16tl0pqjy83j24x940000gn/T/6f94b7974d7f4befa634f0117e5f54a6-pulp.mps max timeMode elapsed branch printingOptions all solution /var/folders/sn/9k1r60m16tl0pqjy83j24x940000gn/T/6f94b7974d7f4befa634f0117e5f54a6-pulp.sol (default strategy 1)\n",
      "At line 2 NAME          MODEL\n",
      "At line 3 ROWS\n",
      "At line 8 COLUMNS\n",
      "At line 21 RHS\n",
      "At line 25 BOUNDS\n",
      "At line 28 ENDATA\n",
      "Problem MODEL has 3 rows, 2 columns and 6 elements\n",
      "Coin0008I MODEL read with 0 errors\n",
      "Option for timeMode changed from cpu to elapsed\n",
      "Continuous objective value is 33333.3 - 0.00 seconds\n",
      "Cgl0004I processed model has 2 rows, 2 columns (2 integer (0 of which binary)) and 4 elements\n",
      "Cutoff increment increased from 1e-05 to 2500\n",
      "Cbc0012I Integer solution of -32500 found by DiveCoefficient after 0 iterations and 0 nodes (0.00 seconds)\n",
      "Cbc0001I Search completed - best objective -32500, took 0 iterations and 0 nodes (0.00 seconds)\n",
      "Cbc0035I Maximum depth 0, 0 variables fixed on reduced cost\n",
      "Cuts at root node changed objective from -32500 to -32500\n",
      "Probing was tried 0 times and created 0 cuts of which 0 were active after adding rounds of cuts (0.000 seconds)\n",
      "Gomory was tried 0 times and created 0 cuts of which 0 were active after adding rounds of cuts (0.000 seconds)\n",
      "Knapsack was tried 0 times and created 0 cuts of which 0 were active after adding rounds of cuts (0.000 seconds)\n",
      "Clique was tried 0 times and created 0 cuts of which 0 were active after adding rounds of cuts (0.000 seconds)\n",
      "MixedIntegerRounding2 was tried 0 times and created 0 cuts of which 0 were active after adding rounds of cuts (0.000 seconds)\n",
      "FlowCover was tried 0 times and created 0 cuts of which 0 were active after adding rounds of cuts (0.000 seconds)\n",
      "TwoMirCuts was tried 0 times and created 0 cuts of which 0 were active after adding rounds of cuts (0.000 seconds)\n",
      "ZeroHalf was tried 0 times and created 0 cuts of which 0 were active after adding rounds of cuts (0.000 seconds)\n",
      "\n",
      "Result - Optimal solution found\n",
      "\n",
      "Objective value:                32500.00000000\n",
      "Enumerated nodes:               0\n",
      "Total iterations:               0\n",
      "Time (CPU seconds):             0.00\n",
      "Time (Wallclock seconds):       0.00\n",
      "\n",
      "Option for printingOptions changed from normal to all\n",
      "Total time (CPU seconds):       0.00   (Wallclock seconds):       0.00\n",
      "\n",
      "6.0\n",
      "1.0\n"
     ]
    }
   ],
   "source": [
    "model.solve()\n",
    "print(A.varValue)\n",
    "print(B.varValue)"
   ]
  }
 ],
 "metadata": {
  "interpreter": {
   "hash": "eea321ebed8bed0eadb1282e59e4f8545c8187a09ad0e59d33ede6bd979878c4"
  },
  "kernelspec": {
   "display_name": "Python 3.9.7 ('venv': venv)",
   "language": "python",
   "name": "python3"
  },
  "language_info": {
   "codemirror_mode": {
    "name": "ipython",
    "version": 3
   },
   "file_extension": ".py",
   "mimetype": "text/x-python",
   "name": "python",
   "nbconvert_exporter": "python",
   "pygments_lexer": "ipython3",
   "version": "3.9.7"
  },
  "orig_nbformat": 4
 },
 "nbformat": 4,
 "nbformat_minor": 2
}
