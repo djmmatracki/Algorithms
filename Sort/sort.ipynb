{
 "cells": [
  {
   "cell_type": "code",
   "execution_count": 2,
   "metadata": {},
   "outputs": [],
   "source": [
    "from typing import List"
   ]
  },
  {
   "cell_type": "code",
   "execution_count": 5,
   "metadata": {},
   "outputs": [],
   "source": [
    "def swap(array, i, j):\n",
    "    array[i], array[j] = array[j], array[i]"
   ]
  },
  {
   "cell_type": "markdown",
   "metadata": {},
   "source": [
    "# Bubble sort"
   ]
  },
  {
   "cell_type": "code",
   "execution_count": 8,
   "metadata": {},
   "outputs": [
    {
     "name": "stdout",
     "output_type": "stream",
     "text": [
      "[1, 1, 3, 4, 4, 9, 10]\n"
     ]
    }
   ],
   "source": [
    "def bubbleSort(myList: List[int]):\n",
    "    swaped = True\n",
    "    j = 0\n",
    "    n = len(myList)\n",
    "    while swaped:\n",
    "        swaped = False\n",
    "        for i in range(n-j-1):\n",
    "            if myList[i] > myList[i+1]:\n",
    "                swaped = True\n",
    "                swap(myList, i, i + 1)\n",
    "        j += 1\n",
    "\n",
    "myArray = [3, 4, 1, 9, 4, 10, 1]\n",
    "bubbleSort(myArray)\n",
    "print(myArray)"
   ]
  },
  {
   "cell_type": "markdown",
   "metadata": {},
   "source": [
    "# Quicksort"
   ]
  },
  {
   "cell_type": "code",
   "execution_count": 3,
   "metadata": {},
   "outputs": [],
   "source": [
    "def quickSort(myList: List[int], start: int, end: int) -> None:\n",
    "    i = start\n",
    "    j = end\n",
    "    pivot = myList[(i + j) // 2]\n",
    "\n",
    "    while myList[i] < pivot:\n",
    "        i += 1\n",
    "    \n",
    "    while myList[j] > myList[i]:"
   ]
  },
  {
   "cell_type": "markdown",
   "metadata": {},
   "source": [
    "# Insertion sort"
   ]
  },
  {
   "cell_type": "code",
   "execution_count": null,
   "metadata": {},
   "outputs": [],
   "source": [
    "def insertionSort(myList: List[int]):\n",
    "    for i in range(1, len(myList)):\n",
    "        element_next = myList[i]\n",
    "        j = i - 1\n",
    "        while j >= 0 and myList[j] > element_next:\n",
    "            myList[j+1] = myList[j]\n",
    "            j -= 1\n",
    "        myList[j+1] = element_next\n",
    "    return myList"
   ]
  },
  {
   "cell_type": "markdown",
   "metadata": {},
   "source": [
    "# Merge sort"
   ]
  },
  {
   "cell_type": "code",
   "execution_count": 2,
   "metadata": {},
   "outputs": [
    {
     "name": "stdout",
     "output_type": "stream",
     "text": [
      "[1, 2, 7, 9, 32, 87]\n"
     ]
    }
   ],
   "source": [
    "def mergeSort(myList: List[int]) -> None:\n",
    "    if len(myList) > 1:\n",
    "        mid = len(myList) // 2\n",
    "        left = myList[:mid]\n",
    "        right = myList[mid:]\n",
    "\n",
    "        mergeSort(left)\n",
    "        mergeSort(right)\n",
    "\n",
    "        i = 0 # left\n",
    "        j = 0 # right\n",
    "\n",
    "        k = 0\n",
    "\n",
    "        while i < len(left) and j < len(right):\n",
    "            if left[i] < right[j]:\n",
    "                myList[k] = left[i]\n",
    "                i += 1\n",
    "                k += 1\n",
    "            else:\n",
    "                myList[k] = right[j]\n",
    "                j += 1\n",
    "                k += 1\n",
    "\n",
    "        while i < len(left):\n",
    "            myList[k] = left[i]\n",
    "            i += 1\n",
    "            k += 1\n",
    "\n",
    "        while j < len(right):\n",
    "            myList[k] = right[j]\n",
    "            j += 1\n",
    "            k += 1\n",
    "\n",
    "mylist = [32, 2, 1, 7, 87, 9]\n",
    "\n",
    "mergeSort(mylist)\n",
    "print(mylist)"
   ]
  }
 ],
 "metadata": {
  "interpreter": {
   "hash": "8348f7768659ea86e7daa744a41e5e57a205e9a2eef25f7d6d160b105f1d65ae"
  },
  "kernelspec": {
   "display_name": "Python 3.9.6 ('venv': venv)",
   "language": "python",
   "name": "python3"
  },
  "language_info": {
   "codemirror_mode": {
    "name": "ipython",
    "version": 3
   },
   "file_extension": ".py",
   "mimetype": "text/x-python",
   "name": "python",
   "nbconvert_exporter": "python",
   "pygments_lexer": "ipython3",
   "version": "3.9.6"
  },
  "orig_nbformat": 4
 },
 "nbformat": 4,
 "nbformat_minor": 2
}
