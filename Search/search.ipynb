{
 "cells": [
  {
   "cell_type": "code",
   "execution_count": 2,
   "metadata": {},
   "outputs": [],
   "source": [
    "from typing import List"
   ]
  },
  {
   "cell_type": "markdown",
   "metadata": {},
   "source": [
    "# Linear Search"
   ]
  },
  {
   "cell_type": "code",
   "execution_count": 5,
   "metadata": {},
   "outputs": [],
   "source": [
    "def linearSearch(myList: List[int], item):\n",
    "    index = 0\n",
    "    found = False\n",
    "    while not found and index < len(myList):\n",
    "        if myList[index] == item:\n",
    "            found = True\n",
    "        else:\n",
    "            index += 1"
   ]
  },
  {
   "cell_type": "markdown",
   "metadata": {},
   "source": [
    "# Interpolar Search"
   ]
  },
  {
   "cell_type": "code",
   "execution_count": 4,
   "metadata": {},
   "outputs": [],
   "source": [
    "def intSearch(myList: List[int], x: int) -> bool:\n",
    "    idx0 = 0\n",
    "    idxn = len(myList) - 1\n",
    "    found = False\n",
    "    while idx0 <= idxn and x >= myList[idx0] and x <= myList[idxn]:\n",
    "        mid = idx0 + int(((float(idxn - idx0) / (myList[idxn] - myList[idx0])) * (x - myList[idx0])))\n",
    "\n",
    "        if myList[mid] == x:\n",
    "            found = True"
   ]
  },
  {
   "cell_type": "markdown",
   "metadata": {},
   "source": [
    "# Binary Search"
   ]
  },
  {
   "cell_type": "code",
   "execution_count": null,
   "metadata": {},
   "outputs": [],
   "source": [
    "def binarySearch(myList: List[int], item: int) -> bool:\n",
    "    first = 0\n",
    "    end = len(myList) - 1\n",
    "    found = False\n",
    "    while not found and first <= end:\n",
    "        mid = (first + end) // 2\n",
    "        if myList[mid] == item:\n",
    "            found == True\n",
    "        else:\n",
    "            if item < myList[mid]:\n",
    "                end = mid\n",
    "            else:\n",
    "                first = mid + 1\n",
    "    return found"
   ]
  }
 ],
 "metadata": {
  "interpreter": {
   "hash": "8348f7768659ea86e7daa744a41e5e57a205e9a2eef25f7d6d160b105f1d65ae"
  },
  "kernelspec": {
   "display_name": "Python 3.9.6 ('venv': venv)",
   "language": "python",
   "name": "python3"
  },
  "language_info": {
   "codemirror_mode": {
    "name": "ipython",
    "version": 3
   },
   "file_extension": ".py",
   "mimetype": "text/x-python",
   "name": "python",
   "nbconvert_exporter": "python",
   "pygments_lexer": "ipython3",
   "version": "3.9.6"
  },
  "orig_nbformat": 4
 },
 "nbformat": 4,
 "nbformat_minor": 2
}
