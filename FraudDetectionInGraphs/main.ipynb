{
 "cells": [
  {
   "cell_type": "markdown",
   "metadata": {},
   "source": [
    "# Network Analysis\n",
    "\n",
    "A network graph analysis is considered a network analysis if:\n",
    "\n",
    "- The nodes in a graph represent people.\n",
    "- Edges represent relations between them.\n",
    "- The business question we are trying to answer has a strong social tinge."
   ]
  },
  {
   "cell_type": "markdown",
   "metadata": {},
   "source": [
    "## Criteria on determining adjacency in a graph.\n",
    "\n",
    "### Triangles\n",
    "\n",
    "A triangle is a set of 3 vertices such that any two of them are connected by an edge of the graph; the graph is then said to \"contain\" that triangle.\n",
    "\n",
    "### Graph density\n",
    "\n",
    "A complete graph is a graph in which each pair of graph vertices is connected by an edge. With complete graphs occures another concept which is graph density.\n",
    "Graph density represents the ratio between the edges present in a graph and the maximum number of edges that the graph can contain."
   ]
  },
  {
   "cell_type": "markdown",
   "metadata": {},
   "source": [
    "## Case study - fraud analysis\n",
    "\n",
    "There are two path's:\n",
    "\n",
    "- Basic analysis od fraud detection\n",
    "- Guardians concept\n",
    "\n",
    "\n",
    "#### Basic analysis\n",
    "\n",
    "In this technique, we calculate probability as the sum of the cheater nodes connected to the new node by the total number of nodes connected to the new node.\n",
    "\n",
    "\n",
    "#### Guardians concept\n",
    "\n",
    "In the first step, the fraud is classified on a given scale for each known fraudster.\n",
    "\n",
    "The degree of suspicion is a suspicion that the person may be involved in a fraud.\n",
    "\n",
    "Calculation of the degree of suspicion:\n",
    "\n",
    "- We calculate the average of the four centrality indicators\n",
    "- We multiply it by the weight of the negative result, i.e. the classification of the scale of fraud.\n",
    "- We normalize the result by dividing by the maximum negative result\n",
    "\n",
    "##### The degree of suspicion for a new node\n",
    "\n",
    "To calculate the degree of a new node, add all degrees of suspicion of nodes connected to the new node and divide by the number of these nodes."
   ]
  },
  {
   "cell_type": "code",
   "execution_count": 1,
   "metadata": {},
   "outputs": [],
   "source": [
    "import networkx as nx\n",
    "import matplotlib.pyplot as plt"
   ]
  },
  {
   "cell_type": "markdown",
   "metadata": {},
   "source": [
    "The first step will be to create our graph. The red nodes represent already detected fraudsters, and the green ones represent the innocent ones. Each node is assigned a number from 1 to 10."
   ]
  },
  {
   "cell_type": "code",
   "execution_count": 2,
   "metadata": {},
   "outputs": [
    {
     "data": {
      "image/png": "[encoded data removed]",
      "text/plain": [
       "<Figure size 864x720 with 1 Axes>"
      ]
     },
     "metadata": {},
     "output_type": "display_data"
    }
   ],
   "source": [
    "G = nx.Graph()\n",
    "nodes = range(1, 10)\n",
    "edges = [(7, 2), (2, 3), (7, 4), (4, 5), (7, 3), (7, 5), (1, 6), (1, 7), (2, 8), (2, 9)]\n",
    "\n",
    "G.add_nodes_from(nodes)\n",
    "G.add_edges_from(edges)\n",
    "\n",
    "pos = nx.spring_layout(G)\n",
    "\n",
    "fig = plt.figure(figsize=(12, 10))\n",
    "\n",
    "nx.draw_networkx_nodes(G, pos, nodelist=[1,4,3,8,9], node_color='g', node_size=1300)\n",
    "nx.draw_networkx_nodes(G,pos,nodelist=[2,5,6,7], node_color=\"r\", node_size=1300)\n",
    "nx.draw_networkx_edges(G,pos,edges,width=3,alpha=0.5,edge_color='b')\n",
    "\n",
    "labels = {i: str(i) for i in range(1, 10)}\n",
    "nx.draw_networkx_labels(G, pos, labels=labels, font_size=16)\n",
    "\n",
    "plt.title(\"Graph of potential fraud.\")\n",
    "plt.show()"
   ]
  },
  {
   "cell_type": "markdown",
   "metadata": {},
   "source": [
    "The next step will be to determine the graph centrality coefficients.\n",
    "\n",
    "# Centrality\n",
    "\n",
    "Centrality is a concept that allows us to identify how important is a node in a graph. Now we need to identify what is \"imporant\".\n",
    "There are various indicators to judge the centrality of a specific vertex in the graph. For example, they can be expressed by the weight of a given person in the graph.\n",
    "\n",
    "### Degree centrality\n",
    "\n",
    "First, define the degree of the node. If we are dealing with a **non-directed graph**, then the degree of a node is defined as the number of connections of a given node with others. However, in the case of a directed graph, the degree can be divided into incoming and outgoing degree, i.e. the number of connections to and from the node. Gradual vertex centrality is defined as the degree of a given vertex divided by the number of vertices minus one.\n",
    "\n",
    "### Closenes centrality\n",
    "\n",
    "First, define the distance between two nodes. It is defined as the fewest number of connections to get from one node to another. The coefficient of centrality for a given vertex is defined as the sum of the distances of that vertex to every other vertex.\n",
    "\n",
    "### Betweeness centrality\n",
    "\n",
    "<img src=\"betweeness_centrality.png\" />\n",
    "\n"
   ]
  },
  {
   "cell_type": "code",
   "execution_count": 4,
   "metadata": {},
   "outputs": [
    {
     "name": "stdout",
     "output_type": "stream",
     "text": [
      "Degree centrality:  {1: 0.25, 2: 0.5, 3: 0.25, 4: 0.25, 5: 0.25, 6: 0.125, 7: 0.625, 8: 0.125, 9: 0.125}\n"
     ]
    }
   ],
   "source": [
    "cent1 = nx.eigenvector_centrality(G)\n",
    "cent2 = nx.degree_centrality(G)\n",
    "cent3 = nx.betweenness_centrality(G)\n",
    "cent4 = nx.closeness_centrality(G)\n",
    "\n",
    "print(\"Degree centrality: \", cent2)"
   ]
  },
  {
   "cell_type": "markdown",
   "metadata": {},
   "source": [
    "We give the fraudulent people the degree of their offense and then calculate the average of their centrality indicators for each node."
   ]
  },
  {
   "cell_type": "code",
   "execution_count": 6,
   "metadata": {},
   "outputs": [
    {
     "data": {
      "text/plain": [
       "{1: 0.3092973867583357,\n",
       " 2: 0.5063384184950667,\n",
       " 3: 0.2869334781183585,\n",
       " 4: 0.2602569741151566,\n",
       " 5: 0.2602569741151566,\n",
       " 6: 0.13901924248080227,\n",
       " 7: 0.6647705525324459,\n",
       " 8: 0.1703577895739195,\n",
       " 9: 0.1703577895739195}"
      ]
     },
     "execution_count": 6,
     "metadata": {},
     "output_type": "execute_result"
    }
   ],
   "source": [
    "centrality = dict()\n",
    "\n",
    "deg = {\n",
    "    1: 0,\n",
    "    2: 6,\n",
    "    3: 0,\n",
    "    4: 0,\n",
    "    5: 7,\n",
    "    6: 8,\n",
    "    7: 10,\n",
    "    8: 0,\n",
    "    9: 0\n",
    "}\n",
    "\n",
    "for k in range(1, 10):\n",
    "    centrality[k] = (cent1[k] + cent2[k] + cent3[k] + cent4[k])/4\n",
    "\n",
    "centrality"
   ]
  },
  {
   "cell_type": "markdown",
   "metadata": {},
   "source": [
    "The final step will be to multiply centrality by the degree of the offense and to normalize it by dividing by the maximum degree of the offense."
   ]
  },
  {
   "cell_type": "code",
   "execution_count": 7,
   "metadata": {},
   "outputs": [
    {
     "name": "stdout",
     "output_type": "stream",
     "text": [
      "{1: 0.0, 2: 0.30380305109704003, 3: 0.0, 4: 0.0, 5: 0.1821798818806096, 6: 0.11121539398464182, 7: 0.6647705525324459, 8: 0.0, 9: 0.0}\n"
     ]
    }
   ],
   "source": [
    "DOS = {k: (centrality[k]*deg[k])/10 for k in deg.keys()} \n",
    "print(DOS)"
   ]
  }
 ],
 "metadata": {
  "interpreter": {
   "hash": "8348f7768659ea86e7daa744a41e5e57a205e9a2eef25f7d6d160b105f1d65ae"
  },
  "kernelspec": {
   "display_name": "Python 3.9.6 ('venv': venv)",
   "language": "python",
   "name": "python3"
  },
  "language_info": {
   "codemirror_mode": {
    "name": "ipython",
    "version": 3
   },
   "file_extension": ".py",
   "mimetype": "text/x-python",
   "name": "python",
   "nbconvert_exporter": "python",
   "pygments_lexer": "ipython3",
   "version": "3.9.7"
  },
  "orig_nbformat": 4
 },
 "nbformat": 4,
 "nbformat_minor": 2
}
