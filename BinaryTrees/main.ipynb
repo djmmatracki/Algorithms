{
 "cells": [
  {
   "cell_type": "code",
   "execution_count": 3,
   "metadata": {},
   "outputs": [],
   "source": [
    "from typing import Dict, List, Optional"
   ]
  },
  {
   "cell_type": "markdown",
   "metadata": {},
   "source": [
    "# Depth First Search"
   ]
  },
  {
   "cell_type": "code",
   "execution_count": 2,
   "metadata": {},
   "outputs": [],
   "source": [
    "def dfs_recursive(G: Dict[int, List[int]], s: int) -> List[int]:\n",
    "    visited = []\n",
    "\n",
    "    def dfs_serach(G: Dict[int, List[int]], s: int, visited: List[int]):\n",
    "        visited.append(s)\n",
    "        if s in G.keys():\n",
    "            for i in G[s]:\n",
    "                if i not in visited:\n",
    "                    dfs_serach(G, i, visited)\n",
    "                else:\n",
    "                    return False\n",
    "\n",
    "    print(dfs_serach(G, s, visited))\n",
    "\n",
    "    return visited"
   ]
  },
  {
   "cell_type": "markdown",
   "metadata": {},
   "source": [
    "# Inorder Traverse"
   ]
  },
  {
   "cell_type": "code",
   "execution_count": 4,
   "metadata": {},
   "outputs": [],
   "source": [
    "TreeNode = Dict[int, List[int]]\n",
    "\n",
    "def helper(root: Optional[TreeNode], visited: List[int]) -> None:\n",
    "    if root:\n",
    "        if root.left:\n",
    "            helper(root.left, visited)\n",
    "            \n",
    "        visited.append(root.val)\n",
    "        \n",
    "        if root.right:\n",
    "            helper(root.right, visited)\n",
    "\n",
    "def inorderTraversal(root: Optional[TreeNode]) -> List[int]:\n",
    "        res = []\n",
    "        helper(root, res)\n",
    "        return res"
   ]
  }
 ],
 "metadata": {
  "interpreter": {
   "hash": "8348f7768659ea86e7daa744a41e5e57a205e9a2eef25f7d6d160b105f1d65ae"
  },
  "kernelspec": {
   "display_name": "Python 3.9.6 ('venv': venv)",
   "language": "python",
   "name": "python3"
  },
  "language_info": {
   "codemirror_mode": {
    "name": "ipython",
    "version": 3
   },
   "file_extension": ".py",
   "mimetype": "text/x-python",
   "name": "python",
   "nbconvert_exporter": "python",
   "pygments_lexer": "ipython3",
   "version": "3.9.6"
  },
  "orig_nbformat": 4
 },
 "nbformat": 4,
 "nbformat_minor": 2
}
